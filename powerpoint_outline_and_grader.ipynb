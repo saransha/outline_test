{
 "cells": [
  {
   "cell_type": "code",
   "execution_count": 2,
   "metadata": {},
   "outputs": [],
   "source": [
    "!pip install openai"
   ]
  },
  {
   "cell_type": "code",
   "execution_count": null,
   "metadata": {},
   "outputs": [],
   "source": [
    "%set_env OPENAI_API_KEY="
   ]
  },
  {
   "cell_type": "code",
   "execution_count": 2,
   "metadata": {},
   "outputs": [],
   "source": [
    "user_description = \"history of salt water taffy\"\n",
    "no_of_slides = 8"
   ]
  },
  {
   "cell_type": "code",
   "execution_count": 6,
   "metadata": {},
   "outputs": [],
   "source": [
    "from openai import OpenAI\n",
    "client = OpenAI()\n"
   ]
  },
  {
   "cell_type": "code",
   "execution_count": null,
   "metadata": {},
   "outputs": [],
   "source": [
    "\n",
    "response = client.chat.completions.create(\n",
    "  model=\"gpt-3.5-turbo\",\n",
    "  response_format={\"type\": \"json_object\"},\n",
    "  messages=[\n",
    "    {\n",
    "      \"role\": \"system\",\n",
    "      \"content\": \"\"\"You are an expert powerpoint deck creator that takes in a users description and number of slides and creates an outline. Use the following principles in responding to your users: \n",
    "      1. Always return the requested nuber of slides. Max limit is 50 slides\n",
    "      2. Always use the user's description in the title of the presentation\n",
    "      3. Only return text based content. Be creative.\n",
    "      \n",
    "      For example, if the user asks you to create a presentation on \"importance of music in history\" with 4 slides. Return a json object of the following format:\n",
    "      {slides: [{title: \"The role of music in shaping cultural identity\", slide_number: 1}, {title: \"The evolution of music throughout history\",  slide_number: 2}, {title: \"The impact of music on social and political movements\",  slide_number: 3}, {title: \"The therapeutic and psychological benefits of music\",  slide_number: 4}]}\"\"\"\n",
    "    },\n",
    "    {\n",
    "      \"role\": \"user\",\n",
    "      \"content\": f\"Create a presention on {user_description} with {no_of_slides} slides\"\n",
    "    }\n",
    "  ],\n",
    "  temperature=0.8,\n",
    "  max_tokens=200,\n",
    "  top_p=1,\n",
    "\n",
    ")"
   ]
  },
  {
   "cell_type": "code",
   "execution_count": 3,
   "metadata": {},
   "outputs": [],
   "source": [
    "sample_slide_outline = response.choices[0].message.content\n",
    "#sample_slide_outline = '{\\n    \"slides\": [\\n        {\"title\": \"The Origins of Salt Water Taffy\", \"slide_number\": 1},\\n        {\"title\": \"Early Production Methods\", \"slide_number\": 2},\\n        {\"title\": \"The Spread of Salt Water Taffy Popularity\", \"slide_number\": 3},\\n        {\"title\": \"Iconic Salt Water Taffy Flavors\", \"slide_number\": 4},\\n        {\"title\": \"Salt Water Taffy in Popular Culture\", \"slide_number\": 5},\\n        {\"title\": \"Modern Innovations in Salt Water Taffy Making\", \"slide_number\": 6},\\n        {\"title\": \"Health Benefits of Salt Water Taffy (in moderation)\", \"slide_number\": 7},\\n        {\"title\": \"DIY Salt Water Taffy Recipes\", \"slide_number\": 8}\\n    ]\\n}'\n"
   ]
  },
  {
   "cell_type": "code",
   "execution_count": 4,
   "metadata": {},
   "outputs": [
    {
     "data": {
      "text/plain": [
       "{'slides': [{'title': 'The Origins of Salt Water Taffy', 'slide_number': 1},\n",
       "  {'title': 'Early Production Methods', 'slide_number': 2},\n",
       "  {'title': 'The Spread of Salt Water Taffy Popularity', 'slide_number': 3},\n",
       "  {'title': 'Iconic Salt Water Taffy Flavors', 'slide_number': 4},\n",
       "  {'title': 'Salt Water Taffy in Popular Culture', 'slide_number': 5},\n",
       "  {'title': 'Modern Innovations in Salt Water Taffy Making',\n",
       "   'slide_number': 6},\n",
       "  {'title': 'Health Benefits of Salt Water Taffy (in moderation)',\n",
       "   'slide_number': 7},\n",
       "  {'title': 'DIY Salt Water Taffy Recipes', 'slide_number': 8}]}"
      ]
     },
     "execution_count": 4,
     "metadata": {},
     "output_type": "execute_result"
    }
   ],
   "source": [
    "import json\n",
    "json.loads(sample_slide_outline)"
   ]
  },
  {
   "cell_type": "code",
   "execution_count": 10,
   "metadata": {},
   "outputs": [],
   "source": [
    "grader_response = client.chat.completions.create(\n",
    "  model=\"gpt-3.5-turbo\",\n",
    "  messages=[\n",
    "    {\n",
    "      \"role\": \"system\",\n",
    "      \"content\": \"\"\"You are an powerpoint outline deck grader that will recieve a structured json as input and intended user description. Use the following principles in responding to your users: \n",
    "      1. \n",
    "      2. Grade presentations based on the following rubric: 10 - Excellent, 9 - Great, 8 - Good, 7 - Average, 6 - Below Average, 5 - Poor, 4 - Very Poor, 3 - Terrible, 2 - Horrible, 1 - Abysmal\n",
    "      3. A score of 10 would require a well thought out and creative outline with a clear and concise structure with relation between each slide. A score of 1 would be a nonsensical outline with no clear structure.\n",
    "      4. Only return a single integer between 1-10.\n",
    "      5. Always return the same score for the same input\n",
    "      \n",
    "      For example, if the JSON input is {slides: [{title: \"The role of music in shaping cultural identity\", slide_number: 1}, {title: \"The evolution of music throughout history\",  slide_number: 2}, {title: \"The impact of music on social and political movements\",  slide_number: 3}, {title: \"The therapeutic and psychological benefits of music\",  slide_number: 4}]}. Return a score of 5 as the flow between slides is not apparent.\n",
    "      \"\"\"\n",
    "    }, # there are tradeoffs between passing in original user input and passing in the generated slides. The original user input will allow the model to understand the context of the slides better, but the generated slides will allow the model to understand the quality of the slides better and not focus on user input too much which can vary.\n",
    "    {\n",
    "      \"role\": \"user\",\n",
    "      \"content\": sample_slide_outline\n",
    "    }\n",
    "  ],\n",
    "  temperature=0.0, # even 0 temperature will give some randomness\n",
    "  max_tokens=60,\n",
    "  top_p=1,\n",
    "\n",
    ")"
   ]
  },
  {
   "cell_type": "code",
   "execution_count": 12,
   "metadata": {},
   "outputs": [
    {
     "data": {
      "text/plain": [
       "8"
      ]
     },
     "execution_count": 12,
     "metadata": {},
     "output_type": "execute_result"
    }
   ],
   "source": [
    "int(grader_response.choices[0].message.content)"
   ]
  },
  {
   "cell_type": "code",
   "execution_count": null,
   "metadata": {},
   "outputs": [],
   "source": []
  }
 ],
 "metadata": {
  "kernelspec": {
   "display_name": "base",
   "language": "python",
   "name": "python3"
  },
  "language_info": {
   "codemirror_mode": {
    "name": "ipython",
    "version": 3
   },
   "file_extension": ".py",
   "mimetype": "text/x-python",
   "name": "python",
   "nbconvert_exporter": "python",
   "pygments_lexer": "ipython3",
   "version": "3.10.9"
  }
 },
 "nbformat": 4,
 "nbformat_minor": 2
}
